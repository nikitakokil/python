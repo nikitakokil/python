{
  "nbformat": 4,
  "nbformat_minor": 0,
  "metadata": {
    "colab": {
      "provenance": [],
      "authorship_tag": "ABX9TyOZbWQqlp71xziPC4IS/Eft",
      "include_colab_link": true
    },
    "kernelspec": {
      "name": "python3",
      "display_name": "Python 3"
    },
    "language_info": {
      "name": "python"
    }
  },
  "cells": [
    {
      "cell_type": "markdown",
      "metadata": {
        "id": "view-in-github",
        "colab_type": "text"
      },
      "source": [
        "<a href=\"https://colab.research.google.com/github/nikitakokil/python/blob/main/MLModel_With_Deployment.ipynb\" target=\"_parent\"><img src=\"https://colab.research.google.com/assets/colab-badge.svg\" alt=\"Open In Colab\"/></a>"
      ]
    },
    {
      "cell_type": "code",
      "execution_count": 2,
      "metadata": {
        "colab": {
          "base_uri": "https://localhost:8080/"
        },
        "id": "jzukAxyAmbsm",
        "outputId": "993f100d-83b8-4991-dd8c-228b49bc1a88"
      },
      "outputs": [
        {
          "output_type": "stream",
          "name": "stdout",
          "text": [
            "Epoch 1/10\n",
            "1/1 [==============================] - 1s 1s/step - loss: 83.6544 - accuracy: 0.6667 - val_loss: 20870.3848 - val_accuracy: 0.0000e+00\n",
            "Epoch 2/10\n",
            "1/1 [==============================] - 0s 39ms/step - loss: 1537.3867 - accuracy: 0.3333 - val_loss: 20320.6426 - val_accuracy: 0.0000e+00\n",
            "Epoch 3/10\n",
            "1/1 [==============================] - 0s 42ms/step - loss: 960.2800 - accuracy: 0.3333 - val_loss: 19519.3398 - val_accuracy: 0.0000e+00\n",
            "Epoch 4/10\n",
            "1/1 [==============================] - 0s 58ms/step - loss: 45.3917 - accuracy: 0.6667 - val_loss: 19984.3770 - val_accuracy: 0.0000e+00\n",
            "Epoch 5/10\n",
            "1/1 [==============================] - 0s 57ms/step - loss: 291.6350 - accuracy: 0.6667 - val_loss: 20047.7773 - val_accuracy: 0.0000e+00\n",
            "Epoch 6/10\n",
            "1/1 [==============================] - 0s 60ms/step - loss: 339.4282 - accuracy: 0.6667 - val_loss: 19822.9629 - val_accuracy: 0.0000e+00\n",
            "Epoch 7/10\n",
            "1/1 [==============================] - 0s 37ms/step - loss: 243.5236 - accuracy: 0.6667 - val_loss: 19380.7168 - val_accuracy: 0.0000e+00\n",
            "Epoch 8/10\n",
            "1/1 [==============================] - 0s 37ms/step - loss: 38.6011 - accuracy: 0.6667 - val_loss: 19714.2734 - val_accuracy: 0.0000e+00\n",
            "Epoch 9/10\n",
            "1/1 [==============================] - 0s 36ms/step - loss: 474.0343 - accuracy: 0.3333 - val_loss: 19755.4922 - val_accuracy: 0.0000e+00\n",
            "Epoch 10/10\n",
            "1/1 [==============================] - 0s 36ms/step - loss: 540.5505 - accuracy: 0.3333 - val_loss: 19488.2539 - val_accuracy: 0.0000e+00\n",
            "1/1 [==============================] - 0s 27ms/step - loss: 21305.0312 - accuracy: 0.0000e+00\n",
            "Test Accuracy: 0.0\n"
          ]
        }
      ],
      "source": [
        "import pandas as pd\n",
        "from sklearn.model_selection import train_test_split\n",
        "from sklearn.preprocessing import LabelEncoder\n",
        "from sklearn.metrics import accuracy_score\n",
        "import tensorflow as tf\n",
        "\n",
        "# Load dataset\n",
        "data = pd.read_csv('Dataset - Data Science - Task 8.csv')\n",
        "\n",
        "# Preprocess data\n",
        "X = data.drop('Membership_Level', axis=1)\n",
        "y = data['Membership_Level']\n",
        "\n",
        "# Encode categorical labels\n",
        "label_encoder = LabelEncoder()\n",
        "y = label_encoder.fit_transform(y)\n",
        "\n",
        "# Split data into train and test sets\n",
        "X_train, X_test, y_train, y_test = train_test_split(X, y, test_size=0.2, random_state=42)\n",
        "\n",
        "# Define model\n",
        "membership_prediction_model = tf.keras.Sequential([\n",
        "    tf.keras.layers.Dense(64, activation='relu', input_shape=(X_train.shape[1],)),\n",
        "    tf.keras.layers.Dense(64, activation='relu'),\n",
        "    tf.keras.layers.Dense(len(label_encoder.classes_), activation='softmax')\n",
        "])\n",
        "\n",
        "# Compile model\n",
        "membership_prediction_model.compile(optimizer='adam',\n",
        "              loss='sparse_categorical_crossentropy',\n",
        "              metrics=['accuracy'])\n",
        "\n",
        "# Train model\n",
        "membership_prediction_model.fit(X_train, y_train, epochs=10, batch_size=32, validation_split=0.1)\n",
        "\n",
        "# Evaluate model\n",
        "test_loss, test_accuracy = membership_prediction_model.evaluate(X_test, y_test)\n",
        "print(f\"Test Accuracy: {test_accuracy}\")"
      ]
    }
  ]
}